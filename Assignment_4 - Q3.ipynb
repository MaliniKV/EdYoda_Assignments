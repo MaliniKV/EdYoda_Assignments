{
 "cells": [
  {
   "cell_type": "markdown",
   "id": "df1f68dc",
   "metadata": {},
   "source": [
    "## Write a Python program to square the elements of a list using map() function."
   ]
  },
  {
   "cell_type": "markdown",
   "id": "fd515cc7",
   "metadata": {},
   "source": [
    "##### program 1"
   ]
  },
  {
   "cell_type": "code",
   "execution_count": 2,
   "id": "a278d35f",
   "metadata": {},
   "outputs": [
    {
     "name": "stdout",
     "output_type": "stream",
     "text": [
      "4529\n",
      "Original List:  [4, 5, 2, 9]\n",
      "Squareroot of the elements:  [16, 25, 4, 81]\n"
     ]
    }
   ],
   "source": [
    "def square_root(number):\n",
    "    return number * number\n",
    "square_list = list(map(int,input()))\n",
    "print(\"Original List: \",square_list)\n",
    "result = map(square_root, square_list)\n",
    "print(\"Squareroot of the elements: \",list(result))"
   ]
  },
  {
   "cell_type": "markdown",
   "id": "9899e914",
   "metadata": {},
   "source": [
    "##### program 2"
   ]
  },
  {
   "cell_type": "code",
   "execution_count": 1,
   "id": "dee71016",
   "metadata": {},
   "outputs": [
    {
     "name": "stdout",
     "output_type": "stream",
     "text": [
      "98765\n",
      "Original List:  [9, 8, 7, 6, 5]\n",
      "Squareroot of the elements:  [81, 64, 49, 36, 25]\n"
     ]
    }
   ],
   "source": [
    "def square_root(number):\n",
    "    return number * number\n",
    "square_list = list(map(int,input()))\n",
    "print(\"Original List: \",square_list)\n",
    "result = map(square_root, square_list)\n",
    "print(\"Squareroot of the elements: \",list(result))"
   ]
  }
 ],
 "metadata": {
  "kernelspec": {
   "display_name": "Python 3 (ipykernel)",
   "language": "python",
   "name": "python3"
  },
  "language_info": {
   "codemirror_mode": {
    "name": "ipython",
    "version": 3
   },
   "file_extension": ".py",
   "mimetype": "text/x-python",
   "name": "python",
   "nbconvert_exporter": "python",
   "pygments_lexer": "ipython3",
   "version": "3.10.9"
  }
 },
 "nbformat": 4,
 "nbformat_minor": 5
}
