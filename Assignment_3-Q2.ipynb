{
 "cells": [
  {
   "cell_type": "markdown",
   "id": "479c3b02",
   "metadata": {},
   "source": [
    "### Write a Python program to reverse a string."
   ]
  },
  {
   "cell_type": "markdown",
   "id": "a0ba6d5d",
   "metadata": {},
   "source": [
    "#### method_1"
   ]
  },
  {
   "cell_type": "code",
   "execution_count": 2,
   "id": "a6b036a2",
   "metadata": {},
   "outputs": [
    {
     "name": "stdout",
     "output_type": "stream",
     "text": [
      "1234abcd\n",
      "The original string is : 1234abcd\n",
      "The reversed string is : dcba4321\n"
     ]
    }
   ],
   "source": [
    "def reverse(name):\n",
    "    name = name[::-1]\n",
    "    return name\n",
    "\n",
    "name = str(input())\n",
    "\n",
    "print(\"The original string is : \", end=\"\")\n",
    "print(name)\n",
    "\n",
    "print(\"The reversed string is : \", end=\"\")\n",
    "print(reverse(name))"
   ]
  },
  {
   "cell_type": "markdown",
   "id": "6e10664b",
   "metadata": {},
   "source": [
    "#### method_2"
   ]
  },
  {
   "cell_type": "code",
   "execution_count": 3,
   "id": "7862f035",
   "metadata": {},
   "outputs": [
    {
     "name": "stdout",
     "output_type": "stream",
     "text": [
      "viji0820\n",
      "The original string is : viji0820\n",
      "The reversed string is : 0280ijiv\n"
     ]
    }
   ],
   "source": [
    "def reverse(name):\n",
    "    name = name[::-1]\n",
    "    return name\n",
    "\n",
    "name = str(input())\n",
    "\n",
    "print(\"The original string is : \", end=\"\")\n",
    "print(name)\n",
    "\n",
    "print(\"The reversed string is : \", end=\"\")\n",
    "print(reverse(name))"
   ]
  }
 ],
 "metadata": {
  "kernelspec": {
   "display_name": "Python 3 (ipykernel)",
   "language": "python",
   "name": "python3"
  },
  "language_info": {
   "codemirror_mode": {
    "name": "ipython",
    "version": 3
   },
   "file_extension": ".py",
   "mimetype": "text/x-python",
   "name": "python",
   "nbconvert_exporter": "python",
   "pygments_lexer": "ipython3",
   "version": "3.10.9"
  }
 },
 "nbformat": 4,
 "nbformat_minor": 5
}
