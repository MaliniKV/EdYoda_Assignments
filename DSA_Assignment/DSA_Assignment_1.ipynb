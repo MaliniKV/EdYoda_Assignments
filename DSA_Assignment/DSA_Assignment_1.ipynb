{
 "cells": [
  {
   "cell_type": "markdown",
   "id": "3dd9c398",
   "metadata": {},
   "source": [
    "##### Question_01\n",
    "###### Write a program to find all pairs of an integer array whose sum is equal to a given number?"
   ]
  },
  {
   "cell_type": "code",
   "execution_count": 2,
   "id": "aa38ec99",
   "metadata": {},
   "outputs": [
    {
     "name": "stdout",
     "output_type": "stream",
     "text": [
      "enter no of items : 6\n",
      "enter the 1 th number : 1\n",
      "enter the 2 th number : 2\n",
      "enter the 3 th number : 3\n",
      "enter the 4 th number : 4\n",
      "enter the 5 th number : 5\n",
      "enter the 6 th number : 6\n",
      "Enter number for pair : 3\n",
      "{(1, 2)}\n"
     ]
    }
   ],
   "source": [
    "arr=[]\n",
    "lenth= int(input(\"enter no.of items : \"))\n",
    "for i in range(lenth):\n",
    "    num=int(input(f\"enter the {i+1} th number : \"))\n",
    "    arr.append(num)\n",
    "num= int (input(\"Enter number for pair : \"))\n",
    "def pairs(arr,num):\n",
    "    pair=set()\n",
    "    for i in range(len(arr)):\n",
    "        for j in range(i+1,len(arr)):\n",
    "            if arr[i]+arr[j]==num:\n",
    "                pa=(min(arr[i],arr[j]),max(arr[i],arr[j]))\n",
    "                pair.add(pa)\n",
    "    if not pair:\n",
    "        print (\"No Pairs found!\",end=\" \")\n",
    "    else:\n",
    "        return pair\n",
    "print(pairs(arr,num))"
   ]
  },
  {
   "cell_type": "markdown",
   "id": "f87e3c56",
   "metadata": {},
   "source": [
    "### Question_2\n",
    "#### Write a program to reverse an array in place? In place means you cannot create a new array.You have to update the original array."
   ]
  },
  {
   "cell_type": "code",
   "execution_count": 3,
   "id": "76376dd6",
   "metadata": {},
   "outputs": [
    {
     "name": "stdout",
     "output_type": "stream",
     "text": [
      "enter no of items : 6\n",
      "enter the 1th number : 1\n",
      "enter the 2th number : 2\n",
      "enter the 3th number : 3\n",
      "enter the 4th number : 4\n",
      "enter the 5th number : 5\n",
      "enter the 6th number : 6\n",
      "[6, 5, 4, 3, 2, 1]\n"
     ]
    }
   ],
   "source": [
    "def reverse(arr):\n",
    "    left, right = 0, len(arr) - 1\n",
    "    while left < right:\n",
    "        arr[left], arr[right] = arr[right], arr[left]\n",
    "        left = left + 1\n",
    "        right = right - 1\n",
    "    return arr\n",
    "arr=[]\n",
    "lenth= int(input(\"enter no of items : \"))\n",
    "for i in range(lenth):\n",
    "    num=int(input(f\"enter the {i+1}th number : \"))\n",
    "    arr.append(num)\n",
    "print(reverse(arr))"
   ]
  },
  {
   "cell_type": "markdown",
   "id": "a720f905",
   "metadata": {},
   "source": [
    "#### Question_3\n",
    "##### Write a program to find all pairs of an integer array whose sum is equal to a given number?"
   ]
  },
  {
   "cell_type": "code",
   "execution_count": 13,
   "id": "655801e1",
   "metadata": {},
   "outputs": [
    {
     "name": "stdout",
     "output_type": "stream",
     "text": [
      "Enter string 1 : Malini\n",
      "Enter string 2 : iinlam\n",
      "Yes!\n"
     ]
    }
   ],
   "source": [
    "string1=input(\"Enter string 1 : \")\n",
    "string2=input(\"Enter string 2 : \")\n",
    "def  rotatestring(str1,str2):\n",
    "    if len(str1)!=len(str2):\n",
    "        return False\n",
    "    temp=str1+str2\n",
    "    if str1 in temp:\n",
    "        return True\n",
    "    else:\n",
    "        return False\n",
    "    \n",
    "if rotatestring(string1,string2):\n",
    "    print(\"Yes!\")\n",
    "else:\n",
    "    print(\"No!\")"
   ]
  },
  {
   "cell_type": "markdown",
   "id": "af1ae918",
   "metadata": {},
   "source": [
    "#### Question_4\n",
    "##### Write a program to print the first non-repeated character from a string?"
   ]
  },
  {
   "cell_type": "code",
   "execution_count": 15,
   "id": "c684c8bc",
   "metadata": {},
   "outputs": [
    {
     "name": "stdout",
     "output_type": "stream",
     "text": [
      "Enter string : malini\n",
      "Non-repeated character :  m\n"
     ]
    }
   ],
   "source": [
    "string=input(\"Enter string : \")\n",
    "def repeat(string)->str:\n",
    "    temp={}\n",
    "    for i in string:\n",
    "        temp[i]=1+temp.get(i,0)\n",
    "    for i in string:\n",
    "        if temp[i]==1:\n",
    "            return i\n",
    "print('Non-repeated character : ',repeat(string))"
   ]
  },
  {
   "cell_type": "markdown",
   "id": "35050821",
   "metadata": {},
   "source": [
    "#### Question_5\n",
    "##### Write a recursive function to check if a given string is a palindrome."
   ]
  },
  {
   "cell_type": "code",
   "execution_count": 18,
   "id": "7a03d9b9",
   "metadata": {},
   "outputs": [
    {
     "name": "stdout",
     "output_type": "stream",
     "text": [
      "Enter string : madam\n",
      "True\n"
     ]
    }
   ],
   "source": [
    "string = input(\"Enter string : \")\n",
    "def palindrome(string):\n",
    "    if len(string)==1:\n",
    "        return True\n",
    "    if string[0] == string[-1]:\n",
    "        return palindrome(string[1:-1])\n",
    "    else:\n",
    "        return False\n",
    "print(palindrome(string))"
   ]
  },
  {
   "cell_type": "markdown",
   "id": "10cf4130",
   "metadata": {},
   "source": [
    "#### Question_6\n",
    "##### Read about infix, prefix, and postfix expressions. Write a program to convert postfix to prefix expression."
   ]
  },
  {
   "cell_type": "code",
   "execution_count": 21,
   "id": "ac2f55cb",
   "metadata": {},
   "outputs": [
    {
     "name": "stdout",
     "output_type": "stream",
     "text": [
      "Enter the postfix : 45-23+\n",
      "Prefix :  +23-45\n"
     ]
    }
   ],
   "source": [
    "class Stack:\n",
    "    def __init__(self):\n",
    "        self.items = []\n",
    "    def push(self, item):\n",
    "        self.items.append(item)  \n",
    "    def pop(self):\n",
    "        if not self.is_empty():\n",
    "            return self.items.pop()\n",
    "        else:\n",
    "            return None     \n",
    "    def peek(self):\n",
    "        if not self.is_empty():\n",
    "            return self.items[-1]  \n",
    "        else:\n",
    "            return None\n",
    "    def get_stack(self):\n",
    "        if not self.is_empty():\n",
    "            return self.items\n",
    "        else:\n",
    "            return None\n",
    "    def is_empty(self):\n",
    "        return len(self.items) == 0  \n",
    "    def clearAll(self):\n",
    "        self.items.clear()\n",
    "        print(\"All Elements removed.\")\n",
    "string = input(\"Enter the postfix : \") \n",
    "def postfix(string):\n",
    "    res=''\n",
    "    if len(string)<=1:\n",
    "        return string\n",
    "    else:\n",
    "        stack=Stack()\n",
    "        for strs in string:\n",
    "            if strs in [\"+\",'-','*','/']:\n",
    "                s1=stack.peek()\n",
    "                stack.pop()\n",
    "                s2=stack.peek()    \n",
    "                stack.pop()\n",
    "                try:\n",
    "                    res=strs+s2+s1+res\n",
    "                except:\n",
    "                    print ('Enter the valid postfix : ')\n",
    "            else:\n",
    "                stack.push(strs)\n",
    "    return res\n",
    "print('Prefix : ',postfix(string))"
   ]
  },
  {
   "cell_type": "markdown",
   "id": "a3fa095c",
   "metadata": {},
   "source": [
    "#### Question_7\n",
    "##### Write a program to convert prefix expression to infix expression."
   ]
  },
  {
   "cell_type": "code",
   "execution_count": 22,
   "id": "e3f27f13",
   "metadata": {},
   "outputs": [
    {
     "name": "stdout",
     "output_type": "stream",
     "text": [
      "Enter the postfix : *-2/23*/156\n",
      "Infix :  ((2-(2/3))*((1/5)*6))\n"
     ]
    }
   ],
   "source": [
    "class Stack:\n",
    "    def __init__(self):\n",
    "        self.items = []\n",
    "    def push(self, item):\n",
    "        self.items.append(item)  \n",
    "    def pop(self):\n",
    "        if not self.is_empty():\n",
    "            return self.items.pop()\n",
    "        else:\n",
    "            return None   \n",
    "    def peek(self):\n",
    "        if not self.is_empty():\n",
    "            return self.items[-1]  \n",
    "        else:\n",
    "            return None \n",
    "    def is_empty(self):\n",
    "        return len(self.items) == 0\n",
    "string = input(\"Enter the postfix : \")\n",
    "def postfix(string):\n",
    "    string=string[::-1]\n",
    "    res=''\n",
    "    if len(string)<=1 or string==None:\n",
    "        return string\n",
    "    else:\n",
    "        stack=Stack()\n",
    "        for strs in string:\n",
    "            if strs in [\"+\",'-','*','/']:\n",
    "                str = \"(\" + stack.pop() + f\"{strs}\" + stack.pop() + \")\"\n",
    "                stack.push(str)\n",
    "            else:\n",
    "                stack.push(strs)\n",
    "    while not stack.is_empty():\n",
    "        res+=stack.pop()\n",
    "    return res \n",
    "print('Infix : ',postfix(string))"
   ]
  },
  {
   "cell_type": "markdown",
   "id": "90bb24cc",
   "metadata": {},
   "source": [
    "#### Question_8\n",
    "##### Write a program to check if all the brackets are closed in a given code snippet."
   ]
  },
  {
   "cell_type": "code",
   "execution_count": 29,
   "id": "61de98a2",
   "metadata": {},
   "outputs": [
    {
     "name": "stdout",
     "output_type": "stream",
     "text": [
      "Enter the string : ()(())(\n",
      "False\n"
     ]
    }
   ],
   "source": [
    "def closed(string):\n",
    "    temp={'(':0,')':0}\n",
    "    for c in string:\n",
    "        if c == \"(\" :\n",
    "            temp['(']+=1\n",
    "        if c==\")\":\n",
    "            temp[')']+=1  \n",
    "            \n",
    "    return temp['(']%2==0 and temp[')']%2==0\n",
    "string = input('Enter the string : ')\n",
    "print(closed(string))"
   ]
  },
  {
   "cell_type": "markdown",
   "id": "b71e8429",
   "metadata": {},
   "source": [
    "#### Question_9\n",
    "##### Write a program to reverse a stack."
   ]
  },
  {
   "cell_type": "code",
   "execution_count": 30,
   "id": "8fc73a20",
   "metadata": {},
   "outputs": [
    {
     "name": "stdout",
     "output_type": "stream",
     "text": [
      "Enter no of items to Push : 6\n",
      "Enter 1th number to append : 10\n",
      "Enter 2th number to append : 20\n",
      "Enter 3th number to append : 30\n",
      "Enter 4th number to append : 40\n",
      "Enter 5th number to append : 50\n",
      "Enter 6th number to append : 60\n",
      "Original  Stack :  [10, 20, 30, 40, 50, 60]\n",
      "New Stack :  [60, 50, 40, 30, 20, 10]\n"
     ]
    }
   ],
   "source": [
    "class Stack:\n",
    "    def __init__(self):\n",
    "        self.items = []\n",
    "    def push(self, item):\n",
    "        self.items.append(item)  \n",
    "    def pop(self):\n",
    "        if not self.is_empty():\n",
    "            return self.items.pop()\n",
    "        else:\n",
    "            return None      \n",
    "    def peek(self):\n",
    "        if not self.is_empty():\n",
    "            return self.items[-1]  \n",
    "        else:\n",
    "            return None    \n",
    "    def get_stack(self):\n",
    "        if not self.is_empty():\n",
    "            return self.items\n",
    "        else:\n",
    "            return None    \n",
    "    def is_empty(self):\n",
    "        return len(self.items) == 0    \n",
    "    def clearAll(self):\n",
    "        self.items.clear()\n",
    "        print(\"All Elements removed.\")\n",
    "stack=Stack()\n",
    "newstack=Stack()\n",
    "lenth=int(input('Enter no of items to Push : '))\n",
    "for i in range(lenth):\n",
    "    num=int(input(f\"Enter {i+1}th number to append : \"))\n",
    "    stack.push(num)\n",
    "print ('Original  Stack : ',stack.get_stack())\n",
    "for i in range(lenth):\n",
    "    stc=stack.get_stack()\n",
    "    newstack.push(stc[lenth-(i+1)])\n",
    "print ('New Stack : ',newstack.get_stack())"
   ]
  },
  {
   "cell_type": "markdown",
   "id": "96231e2e",
   "metadata": {},
   "source": [
    "#### Question_10\n",
    "##### Write a program to find the smallest number using a stack."
   ]
  },
  {
   "cell_type": "code",
   "execution_count": 31,
   "id": "99a43516",
   "metadata": {},
   "outputs": [
    {
     "name": "stdout",
     "output_type": "stream",
     "text": [
      "Enter no of items to Push : 6\n",
      "Enter 1th number to append : 6\n",
      "Enter 2th number to append : 5\n",
      "Enter 3th number to append : 4\n",
      "Enter 4th number to append : 3\n",
      "Enter 5th number to append : 2\n",
      "Enter 6th number to append : 1\n",
      "Original  Stack :  [6, 5, 4, 3, 2, 1]\n",
      "Smallest number :  1\n"
     ]
    }
   ],
   "source": [
    "class Stack:\n",
    "    def __init__(self):\n",
    "        self.items = []\n",
    "    def push(self, item):\n",
    "        self.items.append(item)  \n",
    "    def pop(self):\n",
    "        if not self.is_empty():\n",
    "            return self.items.pop()\n",
    "        else:\n",
    "            return None     \n",
    "    def peek(self):\n",
    "        if not self.is_empty():\n",
    "            return self.items[-1]  \n",
    "        else:\n",
    "            return None    \n",
    "    def get_stack(self):\n",
    "        if not self.is_empty():\n",
    "            return self.items\n",
    "        else:\n",
    "            return None  \n",
    "    def is_empty(self):\n",
    "        return len(self.items) == 0  \n",
    "    def clearAll(self):\n",
    "        self.items.clear()\n",
    "        print(\"All Elements removed.\")\n",
    "stack=Stack()\n",
    "lenth=int(input('Enter no of items to Push : '))\n",
    "for i in range(lenth):\n",
    "    num=int(input(f\"Enter {i+1}th number to append : \"))\n",
    "    stack.push(num)\n",
    "print ('Original  Stack : ',stack.get_stack())\n",
    "print('Smallest number : ',min(stack.get_stack()))"
   ]
  }
 ],
 "metadata": {
  "kernelspec": {
   "display_name": "Python 3 (ipykernel)",
   "language": "python",
   "name": "python3"
  },
  "language_info": {
   "codemirror_mode": {
    "name": "ipython",
    "version": 3
   },
   "file_extension": ".py",
   "mimetype": "text/x-python",
   "name": "python",
   "nbconvert_exporter": "python",
   "pygments_lexer": "ipython3",
   "version": "3.10.9"
  }
 },
 "nbformat": 4,
 "nbformat_minor": 5
}
