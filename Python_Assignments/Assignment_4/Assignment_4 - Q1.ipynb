{
 "cells": [
  {
   "cell_type": "markdown",
   "id": "03fa85ef",
   "metadata": {},
   "source": [
    "#### Write a Python program to create a lambda function that adds 25 to a given number passed in as an argument."
   ]
  },
  {
   "cell_type": "markdown",
   "id": "92bc38c8",
   "metadata": {},
   "source": [
    "#### program 1"
   ]
  },
  {
   "cell_type": "code",
   "execution_count": 7,
   "id": "946658ee",
   "metadata": {},
   "outputs": [
    {
     "name": "stdout",
     "output_type": "stream",
     "text": [
      "Original number: 10\n",
      "Addition of the number:  35\n"
     ]
    }
   ],
   "source": [
    "add_25 = lambda x : x + 25\n",
    "number = int(input(\"Original number: \"))\n",
    "result = add_25(number)\n",
    "print(\"Addition of the number: \", result)"
   ]
  },
  {
   "cell_type": "markdown",
   "id": "49818488",
   "metadata": {},
   "source": [
    "##### program 2"
   ]
  },
  {
   "cell_type": "code",
   "execution_count": 6,
   "id": "7aba6c0a",
   "metadata": {},
   "outputs": [
    {
     "name": "stdout",
     "output_type": "stream",
     "text": [
      "Original number: 20\n",
      "Addition of the number:  45\n"
     ]
    }
   ],
   "source": [
    "add_25 = lambda x : x + 25\n",
    "number = int(input(\"Original number: \"))\n",
    "result = add_25(number)\n",
    "print(\"Addition of the number: \", result)"
   ]
  }
 ],
 "metadata": {
  "kernelspec": {
   "display_name": "Python 3 (ipykernel)",
   "language": "python",
   "name": "python3"
  },
  "language_info": {
   "codemirror_mode": {
    "name": "ipython",
    "version": 3
   },
   "file_extension": ".py",
   "mimetype": "text/x-python",
   "name": "python",
   "nbconvert_exporter": "python",
   "pygments_lexer": "ipython3",
   "version": "3.10.9"
  }
 },
 "nbformat": 4,
 "nbformat_minor": 5
}
