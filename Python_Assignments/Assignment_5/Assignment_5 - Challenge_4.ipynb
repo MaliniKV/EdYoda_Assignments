{
 "cells": [
  {
   "cell_type": "markdown",
   "id": "0530d922",
   "metadata": {},
   "source": [
    "### Challenge 4: Implement a Banking Account."
   ]
  },
  {
   "cell_type": "code",
   "execution_count": 3,
   "id": "b06a09c7",
   "metadata": {},
   "outputs": [
    {
     "name": "stdout",
     "output_type": "stream",
     "text": [
      "Enter the name: Malini\n",
      "Enter the amount: 50000\n",
      "Enter the interestrate: 5\n",
      "Account Title: Malini\n",
      "Account Balance: 50000\n",
      "Savings Account Title: Malini\n",
      "Savings Account Balance: 50000\n",
      "Savings Account Interest Rate: 5\n"
     ]
    }
   ],
   "source": [
    "class Account:\n",
    "    def __init__(self, title, balance=0):\n",
    "        self.title = title\n",
    "        self.balance = balance\n",
    "\n",
    "class Savings_Account(Account):\n",
    "    def __init__(self, title, balance=0, interestRate=0):\n",
    "        super().__init__(title, balance)\n",
    "        self.interestRate = interestRate\n",
    "Tittle = input(\"Enter the name: \")\n",
    "Balance = int(input(\"Enter the amount: \"))\n",
    "Intrest = int(input(\"Enter the interestrate: \"))\n",
    "account1 = Account(Tittle,Balance)\n",
    "print(\"Account Title:\", account1.title)\n",
    "print(\"Account Balance:\", account1.balance)\n",
    "\n",
    "account2 = Savings_Account(Tittle, Balance, Intrest)\n",
    "print(\"Savings Account Title:\", account2.title)\n",
    "print(\"Savings Account Balance:\", account2.balance)\n",
    "print(\"Savings Account Interest Rate:\", account2.interestRate)"
   ]
  }
 ],
 "metadata": {
  "kernelspec": {
   "display_name": "Python 3 (ipykernel)",
   "language": "python",
   "name": "python3"
  },
  "language_info": {
   "codemirror_mode": {
    "name": "ipython",
    "version": 3
   },
   "file_extension": ".py",
   "mimetype": "text/x-python",
   "name": "python",
   "nbconvert_exporter": "python",
   "pygments_lexer": "ipython3",
   "version": "3.10.9"
  }
 },
 "nbformat": 4,
 "nbformat_minor": 5
}
