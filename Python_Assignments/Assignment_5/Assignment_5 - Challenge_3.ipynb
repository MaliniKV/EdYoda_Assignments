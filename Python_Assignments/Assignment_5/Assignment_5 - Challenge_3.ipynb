{
 "cells": [
  {
   "cell_type": "markdown",
   "id": "74697933",
   "metadata": {},
   "source": [
    "### Challenge 3: Implement the Complete Student Class."
   ]
  },
  {
   "cell_type": "code",
   "execution_count": 1,
   "id": "cb0a0cb4",
   "metadata": {},
   "outputs": [
    {
     "name": "stdout",
     "output_type": "stream",
     "text": [
      "Enter the name of student: Malini\n",
      "Enter the roll no of student: 49\n",
      "Name of the student:  Malini\n",
      "Roll Number of the student:  49\n"
     ]
    }
   ],
   "source": [
    "class Student:\n",
    "    \n",
    "    def getName(self):\n",
    "        return self.name\n",
    "\n",
    "    def setName(self, name):\n",
    "        self.name = name\n",
    "\n",
    "    def getRollNumber(self):\n",
    "        return self.rollNumber\n",
    "\n",
    "    def setRollNumber(self, rollNumber):\n",
    "        self.rollNumber = rollNumber\n",
    "\n",
    "student = Student()\n",
    "name=input('Enter the name of student: ')\n",
    "rno=input('Enter the roll no of student: ')\n",
    "student.setName(name)\n",
    "student.setRollNumber(rno)\n",
    "\n",
    "print(\"Name of the student: \", student.getName())\n",
    "print(\"Roll Number of the student: \", student.getRollNumber())"
   ]
  }
 ],
 "metadata": {
  "kernelspec": {
   "display_name": "Python 3 (ipykernel)",
   "language": "python",
   "name": "python3"
  },
  "language_info": {
   "codemirror_mode": {
    "name": "ipython",
    "version": 3
   },
   "file_extension": ".py",
   "mimetype": "text/x-python",
   "name": "python",
   "nbconvert_exporter": "python",
   "pygments_lexer": "ipython3",
   "version": "3.10.9"
  }
 },
 "nbformat": 4,
 "nbformat_minor": 5
}
