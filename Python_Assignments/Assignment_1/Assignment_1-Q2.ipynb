{
 "cells": [
  {
   "cell_type": "markdown",
   "id": "c94f6d89",
   "metadata": {},
   "source": [
    "### Write a Python program that accepts a word from the user and reverse it."
   ]
  },
  {
   "cell_type": "code",
   "execution_count": 1,
   "id": "c435b90e",
   "metadata": {},
   "outputs": [
    {
     "name": "stdout",
     "output_type": "stream",
     "text": [
      "Input a word to reverse: Edyoda\n",
      "adoydE"
     ]
    }
   ],
   "source": [
    "word = input(\"Input a word to reverse: \")\n",
    "\n",
    "for reverse in range(len(word) - 1, -1, -1):\n",
    "    print(word[reverse], end=\"\")"
   ]
  },
  {
   "cell_type": "code",
   "execution_count": 2,
   "id": "b4d1f594",
   "metadata": {},
   "outputs": [
    {
     "name": "stdout",
     "output_type": "stream",
     "text": [
      "Input a word to reverse: Malini\n",
      "inilaM"
     ]
    }
   ],
   "source": [
    "word = input(\"Input a word to reverse: \")\n",
    "\n",
    "for reverse in range(len(word) - 1, -1, -1):\n",
    "    print(word[reverse], end=\"\")"
   ]
  }
 ],
 "metadata": {
  "kernelspec": {
   "display_name": "Python 3 (ipykernel)",
   "language": "python",
   "name": "python3"
  },
  "language_info": {
   "codemirror_mode": {
    "name": "ipython",
    "version": 3
   },
   "file_extension": ".py",
   "mimetype": "text/x-python",
   "name": "python",
   "nbconvert_exporter": "python",
   "pygments_lexer": "ipython3",
   "version": "3.10.9"
  }
 },
 "nbformat": 4,
 "nbformat_minor": 5
}
