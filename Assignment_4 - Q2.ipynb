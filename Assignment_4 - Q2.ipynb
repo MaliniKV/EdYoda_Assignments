{
 "cells": [
  {
   "cell_type": "markdown",
   "id": "4e085a03",
   "metadata": {},
   "source": [
    "##### Write a Python program to triple all numbers of a given list of integers. Use Python map."
   ]
  },
  {
   "cell_type": "markdown",
   "id": "2680a75c",
   "metadata": {},
   "source": [
    "###### program 1"
   ]
  },
  {
   "cell_type": "code",
   "execution_count": 2,
   "id": "1d3ab5a4",
   "metadata": {},
   "outputs": [
    {
     "name": "stdout",
     "output_type": "stream",
     "text": [
      "1234567\n",
      "Original list:  [1, 2, 3, 4, 5, 6, 7]\n",
      "Triple of the numbers:  [3, 6, 9, 12, 15, 18, 21]\n"
     ]
    }
   ],
   "source": [
    "numbers = list(map(int,input()))\n",
    "print(\"Original list: \", numbers)\n",
    "result = map(lambda x: x + x + x, numbers) \n",
    "print(\"Triple of the numbers: \",list(result))"
   ]
  },
  {
   "cell_type": "markdown",
   "id": "9be120bd",
   "metadata": {},
   "source": [
    "###### program 2"
   ]
  },
  {
   "cell_type": "code",
   "execution_count": 1,
   "id": "61143a60",
   "metadata": {},
   "outputs": [
    {
     "name": "stdout",
     "output_type": "stream",
     "text": [
      "123456789\n",
      "Original list:  [1, 2, 3, 4, 5, 6, 7, 8, 9]\n",
      "Triple of the numbers:  [3, 6, 9, 12, 15, 18, 21, 24, 27]\n"
     ]
    }
   ],
   "source": [
    "numbers = list(map(int,input()))\n",
    "print(\"Original list: \", numbers)\n",
    "result = map(lambda x: x + x + x, numbers) \n",
    "print(\"Triple of the numbers: \",list(result))"
   ]
  }
 ],
 "metadata": {
  "kernelspec": {
   "display_name": "Python 3 (ipykernel)",
   "language": "python",
   "name": "python3"
  },
  "language_info": {
   "codemirror_mode": {
    "name": "ipython",
    "version": 3
   },
   "file_extension": ".py",
   "mimetype": "text/x-python",
   "name": "python",
   "nbconvert_exporter": "python",
   "pygments_lexer": "ipython3",
   "version": "3.10.9"
  }
 },
 "nbformat": 4,
 "nbformat_minor": 5
}
