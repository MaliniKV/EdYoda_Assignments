{
 "cells": [
  {
   "cell_type": "markdown",
   "id": "9b2faa51",
   "metadata": {},
   "source": [
    "### Write a Python function to sum all the numbers in a list."
   ]
  },
  {
   "cell_type": "markdown",
   "id": "1f552f37",
   "metadata": {},
   "source": [
    "#### method_1"
   ]
  },
  {
   "cell_type": "code",
   "execution_count": 3,
   "id": "1a8cf3bb",
   "metadata": {},
   "outputs": [
    {
     "name": "stdout",
     "output_type": "stream",
     "text": [
      "Enter the list: 82307\n",
      "[8, 2, 3, 0, 7]\n"
     ]
    },
    {
     "data": {
      "text/plain": [
       "20"
      ]
     },
     "execution_count": 3,
     "metadata": {},
     "output_type": "execute_result"
    }
   ],
   "source": [
    "def sum(input_list):\n",
    "    sum1 = 0\n",
    "    for num in input_list:\n",
    "        sum1 = sum1+num\n",
    "    return sum1\n",
    "sample_list = list(map(int,input(\"Enter the list: \")))\n",
    "print(sample_list)\n",
    "sum(sample_list)"
   ]
  },
  {
   "cell_type": "markdown",
   "id": "3ca4e397",
   "metadata": {},
   "source": [
    "#### method_2"
   ]
  },
  {
   "cell_type": "code",
   "execution_count": 2,
   "id": "bc85cf49",
   "metadata": {},
   "outputs": [
    {
     "name": "stdout",
     "output_type": "stream",
     "text": [
      "20\n"
     ]
    }
   ],
   "source": [
    "def summation(numbers):\n",
    "    total = 0\n",
    "    for x in numbers:\n",
    "        total += x\n",
    "    return total\n",
    "print(summation((8, 2, 3, 0, 7)))"
   ]
  }
 ],
 "metadata": {
  "kernelspec": {
   "display_name": "Python 3 (ipykernel)",
   "language": "python",
   "name": "python3"
  },
  "language_info": {
   "codemirror_mode": {
    "name": "ipython",
    "version": 3
   },
   "file_extension": ".py",
   "mimetype": "text/x-python",
   "name": "python",
   "nbconvert_exporter": "python",
   "pygments_lexer": "ipython3",
   "version": "3.10.9"
  }
 },
 "nbformat": 4,
 "nbformat_minor": 5
}
