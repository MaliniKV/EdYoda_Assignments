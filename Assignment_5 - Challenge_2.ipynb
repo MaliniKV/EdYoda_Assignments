{
 "cells": [
  {
   "cell_type": "markdown",
   "id": "6848e3eb",
   "metadata": {},
   "source": [
    "### Challenge 2: Implement a Calculator Class."
   ]
  },
  {
   "cell_type": "code",
   "execution_count": 1,
   "id": "59628d43",
   "metadata": {},
   "outputs": [
    {
     "name": "stdout",
     "output_type": "stream",
     "text": [
      "Enter the 1st number: 10\n",
      "Enter the 2nd number: 5\n",
      " Addition : 15.00 \n",
      " Subtraction :  5.00\n",
      " Multiplication:  50.00\n",
      " Division:  2.00\n"
     ]
    }
   ],
   "source": [
    "class Calculator():\n",
    "    def __init__(self,num1,num2):\n",
    "        self.num1 = num1\n",
    "        self.num2 = num2\n",
    "    def add(self):\n",
    "        return self.num1 + self.num2\n",
    "    def subtract(self):\n",
    "        return self.num1 - self.num2\n",
    "    def multiply(self):\n",
    "        return self.num1 * self.num2\n",
    "    def divide(self):\n",
    "        return self.num1 / self.num2\n",
    "    \n",
    "num1 = int(input(\"Enter the 1st number: \"))\n",
    "num2 = int(input(\"Enter the 2nd number: \")) \n",
    "Calculator_instance = Calculator(num1, num2)\n",
    "Addition = Calculator_instance.add()\n",
    "Subtraction = Calculator_instance.subtract()\n",
    "Multiplication = Calculator_instance.multiply()\n",
    "Division = Calculator_instance.divide()\n",
    "\n",
    "print(f\" Addition : {Addition:.2f} \\n Subtraction : {Subtraction: .2f}\\n Multiplication: {Multiplication: .2f}\\n Division: {Division: .2f}\")"
   ]
  }
 ],
 "metadata": {
  "kernelspec": {
   "display_name": "Python 3 (ipykernel)",
   "language": "python",
   "name": "python3"
  },
  "language_info": {
   "codemirror_mode": {
    "name": "ipython",
    "version": 3
   },
   "file_extension": ".py",
   "mimetype": "text/x-python",
   "name": "python",
   "nbconvert_exporter": "python",
   "pygments_lexer": "ipython3",
   "version": "3.10.9"
  }
 },
 "nbformat": 4,
 "nbformat_minor": 5
}
